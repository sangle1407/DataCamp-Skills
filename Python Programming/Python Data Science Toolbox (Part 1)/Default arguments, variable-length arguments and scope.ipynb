{
 "cells": [
  {
   "cell_type": "markdown",
   "metadata": {},
   "source": [
    "# Python Data Science Toolbox (Part 1)\n"
   ]
  },
  {
   "cell_type": "markdown",
   "metadata": {},
   "source": [
    "2. Default arguments, variable-length argument and scope\n",
    "In this chapter, you'll learn to write functions with default arguments so that the user doesn't always need to specify them, and variable-length arguments so they can pass an arbitrary number of arguments on to your functions. You'll also learn about the essential concept of scope."
   ]
  },
  {
   "cell_type": "markdown",
   "metadata": {},
   "source": [
    "                                        Functions with one default argument\n",
    "\n",
    "In the previous chapter, you've learned to define functions with more than one parameter and then calling those functions by passing the required number of arguments. In the last video, Hugo built on this idea by showing you how to define functions with default arguments. You will practice that skill in this exercise by writing a function that uses a default argument and then calling the function a couple of times.     \n",
    "\n",
    "#1 Instructions:\n",
    "    1. Complete the function header with the function name shout_echo. It accepts an argument word1 and a default argument echo  with default value 1, in that order.\n",
    "    2. Use the * operator to concatenate echo copies of word1. Assign the result to echo_word.\n",
    "    3. Call shout_echo() with just the string, \"Hey\". Assign the result to no_echo.\n",
    "    4. Call shout_echo() with the string \"Hey\" and the value 5 for the default argument, echo. Assign the result to with_echo."
   ]
  },
  {
   "cell_type": "code",
   "execution_count": 35,
   "metadata": {},
   "outputs": [
    {
     "name": "stdout",
     "output_type": "stream",
     "text": [
      "Hey!!!\n",
      "HeyHeyHeyHeyHey!!!\n"
     ]
    }
   ],
   "source": [
    "def shout_echo(word1,echo=1):\n",
    "    echo_word = word1 * echo\n",
    "    shout_word = echo_word + '!!!'\n",
    "    return shout_word\n",
    "no_echo = shout_echo('Hey')\n",
    "with_echo = shout_echo('Hey',5)\n",
    "print(no_echo)\n",
    "print(with_echo)"
   ]
  },
  {
   "cell_type": "markdown",
   "metadata": {},
   "source": [
    "                                    Functions with multiple default arguments\n",
    "                                    \n",
    "You've now defined a function that uses a default argument - don't stop there just yet! You will now try your hand at defining a function with more than one default argument and then calling this function in various ways.\n",
    "\n",
    "After defining the function, you will call it by supplying values to all the default arguments of the function. Additionally, you will call the function by not passing a value to one of the default arguments - see how that changes the output of your function!\n",
    "\n",
    "#1 Instructions:\n",
    "    1. Complete the function header with the function name shout_echo. It accepts an argument word1, a default argument echo  with default value 1 and a default argument intense with default value False, in that order.\n",
    "    2. In the body of the if statement, make the string object echo_word upper case by applying the method .upper() on it.\n",
    "    3. Call shout_echo() with the string, \"Hey\", the value 5 for echo and the value True for intense. Assign the result to with_big_echo.\n",
    "    4. Call shout_echo() with the string \"Hey\" and the value True for intense. Assign the result to big_no_echo.\n"
   ]
  },
  {
   "cell_type": "code",
   "execution_count": 47,
   "metadata": {},
   "outputs": [
    {
     "name": "stdout",
     "output_type": "stream",
     "text": [
      "HEYHEYHEYHEYHEY!!!\n",
      "HEY!!!\n"
     ]
    }
   ],
   "source": [
    "def shout_echo(word1,echo=1,intense=False):\n",
    "    echo_word = word1*echo\n",
    "    if intense is True:\n",
    "        echo_word_new = echo_word.upper() + '!!!'\n",
    "    else:\n",
    "        echo_word_new = echo_word + '!!!'\n",
    "    return echo_word_new\n",
    "with_big_echo = shout_echo('Hey',5,True)\n",
    "with_no_echo = shout_echo('Hey',intense=True)\n",
    "\n",
    "print(with_big_echo)\n",
    "print(with_no_echo)"
   ]
  },
  {
   "cell_type": "markdown",
   "metadata": {},
   "source": [
    "                                    Functions with variable-length arguments (*args)\n",
    "Flexible arguments enable you to pass a variable number of arguments to a function. In this exercise, you will practice defining a function that accepts a variable number of string arguments.\n",
    "The function you will define is gibberish() which can accept a variable number of string values. Its return value is a single string composed of all the string arguments concatenated together in the order they were passed to the function call. You will call the function with a single string argument and see how the output changes with another call using more than one string argument. Recall from the previous video that, within the function definition, args is a tuple\n",
    "\n",
    "#1 Instructions:\n",
    "    1. Complete the function header with the function name gibberish. It accepts a single flexible argument *args.\n",
    "    2. Initialize a variable hodgepodge to an empty string.\n",
    "    3. Return the variable hodgepodge at the end of the function body.\n",
    "    4. Call gibberish() with the single string, \"luke\". Assign the result to one_word.\n",
    "    5. Hit the Submit button to call gibberish() with multiple arguments and to print the value to the Shell."
   ]
  },
  {
   "cell_type": "code",
   "execution_count": 51,
   "metadata": {},
   "outputs": [
    {
     "name": "stdout",
     "output_type": "stream",
     "text": [
      "luke\n",
      "lukeleiahanobidarth\n"
     ]
    }
   ],
   "source": [
    "def gibberish(*args):\n",
    "    hodgepodge = ''\n",
    "    for word in args:\n",
    "        hodgepodge += word\n",
    "    return hodgepodge\n",
    "one_word = gibberish('luke')\n",
    "many_words = gibberish(\"luke\", \"leia\", \"han\", \"obi\", \"darth\")\n",
    "print(one_word)\n",
    "print(many_words)"
   ]
  },
  {
   "cell_type": "markdown",
   "metadata": {},
   "source": [
    "                            Functions with variable-length keyword arguments (**kwargs)\n",
    "Let's push further on what you've learned about flexible arguments - you've used *args, you're now going to use **kwargs! What makes **kwargs different is that it allows you to pass a variable number of keyword arguments to functions. Recall from the previous video that, within the function definition, kwargs is a dictionary.\n",
    "\n",
    "To understand this idea better, you're going to use **kwargs in this exercise to define a function that accepts a variable number of keyword arguments. The function simulates a simple status report system that prints out the status of a character in a movie.\n",
    "\n",
    "#1 Instructions:\n",
    "    1. Complete the function header with the function name report_status. It accepts a single flexible argument **kwargs.\n",
    "    2. Iterate over the key-value pairs of kwargs to print out the keys and values, separated by a colon ':'.\n",
    "    3. In the first call to report_status(), pass the following keyword-value pairs: name=\"luke\", affiliation=\"jedi\" and status=\"missing\".\n",
    "    4. In the second call to report_status(), pass the following keyword-value pairs: name=\"anakin\", affiliation=\"sith lord\" and status=\"deceased\""
   ]
  },
  {
   "cell_type": "code",
   "execution_count": 2,
   "metadata": {},
   "outputs": [
    {
     "name": "stdout",
     "output_type": "stream",
     "text": [
      "\n",
      "BEGIN: REPORT\n",
      "\n",
      "name: luke\n",
      "affiliation: jedi\n",
      "status: missing\n",
      "\n",
      "END: REPORT\n",
      "\n",
      "BEGIN: REPORT\n",
      "\n",
      "name: anakin\n",
      "affiliation: sith lord\n",
      "status: deceased\n",
      "\n",
      "END: REPORT\n"
     ]
    }
   ],
   "source": [
    "def report_status(**kwargs):\n",
    "    print(\"\\nBEGIN: REPORT\\n\")\n",
    "    for key,value in kwargs.items():\n",
    "        print(key+ ':',value)\n",
    "    print('\\nEND: REPORT')\n",
    "report_status(name=\"luke\", affiliation=\"jedi\",status=\"missing\")    \n",
    "report_status(name=\"anakin\", affiliation=\"sith lord\",status=\"deceased\")"
   ]
  },
  {
   "cell_type": "markdown",
   "metadata": {},
   "source": [
    "                                        Bringing it all together (1)\n",
    "Recall the Bringing it all together exercise in the previous chapter where you did a simple Twitter analysis by developing a function that counts how many tweets are in certain languages. The output of your function was a dictionary that had the language as the keys and the counts of tweets in that language as the value.\n",
    "\n",
    "In this exercise, we will generalize the Twitter language analysis that you did in the previous chapter. You will do that by including a default argument that takes a column name.\n",
    "\n",
    "For your convenience, pandas has been imported as pd and the 'tweets.csv' file has been imported into the DataFrame tweets_df. Parts of the code from your previous work are also provided.\n",
    "\n",
    "#1 Instructions:\n",
    "    1. Complete the function header by supplying the parameter for a DataFrame df and the parameter col_name with a default value of 'lang' for the DataFrame column name.\n",
    "    2. Call count_entries() by passing the tweets_df DataFrame and the column name 'lang'. Assign the result to result1. Note that since 'lang' is the default value of the col_name parameter, you don't have to specify it here.\n",
    "    3. Call count_entries() by passing the tweets_df DataFrame and the column name 'source'. Assign the result to result2."
   ]
  },
  {
   "cell_type": "code",
   "execution_count": 2,
   "metadata": {},
   "outputs": [
    {
     "name": "stdout",
     "output_type": "stream",
     "text": [
      "   contributors  coordinates                      created_at  \\\n",
      "0           NaN          NaN  Tue Mar 29 23:40:17 +0000 2016   \n",
      "1           NaN          NaN  Tue Mar 29 23:40:17 +0000 2016   \n",
      "2           NaN          NaN  Tue Mar 29 23:40:17 +0000 2016   \n",
      "3           NaN          NaN  Tue Mar 29 23:40:17 +0000 2016   \n",
      "4           NaN          NaN  Tue Mar 29 23:40:17 +0000 2016   \n",
      "\n",
      "                                            entities  \\\n",
      "0  {'hashtags': [], 'user_mentions': [{'screen_na...   \n",
      "1  {'hashtags': [{'text': 'cruzsexscandal', 'indi...   \n",
      "2  {'hashtags': [], 'user_mentions': [], 'symbols...   \n",
      "3  {'hashtags': [], 'user_mentions': [], 'symbols...   \n",
      "4  {'hashtags': [], 'user_mentions': [{'screen_na...   \n",
      "\n",
      "                                   extended_entities  favorite_count  \\\n",
      "0  {'media': [{'sizes': {'large': {'w': 1024, 'h'...               0   \n",
      "1  {'media': [{'sizes': {'large': {'w': 500, 'h':...               0   \n",
      "2                                                NaN               0   \n",
      "3                                                NaN               0   \n",
      "4                                                NaN               0   \n",
      "\n",
      "   favorited filter_level  geo                  id  ...  quoted_status_id  \\\n",
      "0      False          low  NaN  714960401759387648  ...               NaN   \n",
      "1      False          low  NaN  714960401977319424  ...               NaN   \n",
      "2      False          low  NaN  714960402426236928  ...               NaN   \n",
      "3      False          low  NaN  714960402367561730  ...      7.149239e+17   \n",
      "4      False          low  NaN  714960402149416960  ...               NaN   \n",
      "\n",
      "  quoted_status_id_str  retweet_count  retweeted  \\\n",
      "0                  NaN              0      False   \n",
      "1                  NaN              0      False   \n",
      "2                  NaN              0      False   \n",
      "3         7.149239e+17              0      False   \n",
      "4                  NaN              0      False   \n",
      "\n",
      "                                    retweeted_status  \\\n",
      "0  {'retweeted': False, 'text': \".@krollbondratin...   \n",
      "1  {'retweeted': False, 'text': '@dmartosko Cruz ...   \n",
      "2                                                NaN   \n",
      "3                                                NaN   \n",
      "4  {'retweeted': False, 'text': 'The anti-America...   \n",
      "\n",
      "                                              source  \\\n",
      "0  <a href=\"http://twitter.com\" rel=\"nofollow\">Tw...   \n",
      "1  <a href=\"http://twitter.com\" rel=\"nofollow\">Tw...   \n",
      "2  <a href=\"http://www.facebook.com/twitter\" rel=...   \n",
      "3  <a href=\"http://twitter.com/download/android\" ...   \n",
      "4  <a href=\"http://twitter.com/download/iphone\" r...   \n",
      "\n",
      "                                                text   timestamp_ms truncated  \\\n",
      "0  RT @bpolitics: .@krollbondrating's Christopher...  1459294817758     False   \n",
      "1  RT @HeidiAlpine: @dmartosko Cruz video found.....  1459294817810     False   \n",
      "2  Njihuni me ZonjĂ«n Trump !!! | Ekskluzive http...  1459294817917     False   \n",
      "3  Your an idiot she shouldn't have tried to grab...  1459294817903     False   \n",
      "4  RT @AlanLohner: The anti-American D.C. elites ...  1459294817851     False   \n",
      "\n",
      "                                                user  \n",
      "0  {'utc_offset': 3600, 'profile_image_url_https'...  \n",
      "1  {'utc_offset': None, 'profile_image_url_https'...  \n",
      "2  {'utc_offset': 7200, 'profile_image_url_https'...  \n",
      "3  {'utc_offset': None, 'profile_image_url_https'...  \n",
      "4  {'utc_offset': -18000, 'profile_image_url_http...  \n",
      "\n",
      "[5 rows x 31 columns]\n"
     ]
    }
   ],
   "source": [
    "import pandas as pd\n",
    "df = pd.read_csv('tweets.csv')\n",
    "print(df.head())\n"
   ]
  },
  {
   "cell_type": "code",
   "execution_count": 3,
   "metadata": {},
   "outputs": [
    {
     "name": "stdout",
     "output_type": "stream",
     "text": [
      "{'en': 97, 'et': 1, 'und': 2}\n",
      "{'<a href=\"http://twitter.com\" rel=\"nofollow\">Twitter Web Client</a>': 24, '<a href=\"http://www.facebook.com/twitter\" rel=\"nofollow\">Facebook</a>': 1, '<a href=\"http://twitter.com/download/android\" rel=\"nofollow\">Twitter for Android</a>': 26, '<a href=\"http://twitter.com/download/iphone\" rel=\"nofollow\">Twitter for iPhone</a>': 33, '<a href=\"http://www.twitter.com\" rel=\"nofollow\">Twitter for BlackBerry</a>': 2, '<a href=\"http://www.google.com/\" rel=\"nofollow\">Google</a>': 2, '<a href=\"http://twitter.com/#!/download/ipad\" rel=\"nofollow\">Twitter for iPad</a>': 6, '<a href=\"http://linkis.com\" rel=\"nofollow\">Linkis.com</a>': 2, '<a href=\"http://rutracker.org/forum/viewforum.php?f=93\" rel=\"nofollow\">newzlasz</a>': 2, '<a href=\"http://ifttt.com\" rel=\"nofollow\">IFTTT</a>': 1, '<a href=\"http://www.myplume.com/\" rel=\"nofollow\">PlumeÂ forÂ Android</a>': 1}\n"
     ]
    }
   ],
   "source": [
    "def count_entries(df,col_name='lang'):\n",
    "    cols_count = {}\n",
    "    col = df[col_name]\n",
    "    for entry in col:\n",
    "        if entry not in cols_count:\n",
    "            cols_count[entry] = 1\n",
    "        else:\n",
    "            cols_count[entry] += 1\n",
    "    return cols_count\n",
    "\n",
    "result1 = count_entries(df)\n",
    "result2 = count_entries(df,'source')\n",
    "print(result1)\n",
    "print(result2)"
   ]
  },
  {
   "cell_type": "markdown",
   "metadata": {},
   "source": [
    "                                            Bringing it all together (2)\n",
    "Wow, you've just generalized your Twitter language analysis that you did in the previous chapter to include a default argument for the column name. You're now going to generalize this function one step further by allowing the user to pass it a flexible argument, that is, in this case, as many column names as the user would like!\n",
    "\n",
    "Once again, for your convenience, pandas has been imported as pd and the 'tweets.csv' file has been imported into the DataFrame tweets_df. Parts of the code from your previous work are also provided.\n",
    "\n",
    "#1 Instructions:\n",
    "    1. Complete the function header by supplying the parameter for the dataframe df and the flexible argument *args.\n",
    "    2. Complete the for loop within the function definition so that the loop occurs over the tuple args.\n",
    "    3. Call count_entries() by passing the tweets_df DataFrame and the column name 'lang'. Assign the result to result1.\n",
    "    4. Call count_entries() by passing the tweets_df DataFrame and the column names 'lang' and 'source'. Assign the result to result2."
   ]
  },
  {
   "cell_type": "code",
   "execution_count": 5,
   "metadata": {},
   "outputs": [
    {
     "name": "stdout",
     "output_type": "stream",
     "text": [
      "{'en': 97, 'et': 1, 'und': 2}\n",
      "{'en': 97, 'et': 1, 'und': 2, '<a href=\"http://twitter.com\" rel=\"nofollow\">Twitter Web Client</a>': 24, '<a href=\"http://www.facebook.com/twitter\" rel=\"nofollow\">Facebook</a>': 1, '<a href=\"http://twitter.com/download/android\" rel=\"nofollow\">Twitter for Android</a>': 26, '<a href=\"http://twitter.com/download/iphone\" rel=\"nofollow\">Twitter for iPhone</a>': 33, '<a href=\"http://www.twitter.com\" rel=\"nofollow\">Twitter for BlackBerry</a>': 2, '<a href=\"http://www.google.com/\" rel=\"nofollow\">Google</a>': 2, '<a href=\"http://twitter.com/#!/download/ipad\" rel=\"nofollow\">Twitter for iPad</a>': 6, '<a href=\"http://linkis.com\" rel=\"nofollow\">Linkis.com</a>': 2, '<a href=\"http://rutracker.org/forum/viewforum.php?f=93\" rel=\"nofollow\">newzlasz</a>': 2, '<a href=\"http://ifttt.com\" rel=\"nofollow\">IFTTT</a>': 1, '<a href=\"http://www.myplume.com/\" rel=\"nofollow\">PlumeÂ forÂ Android</a>': 1}\n"
     ]
    }
   ],
   "source": [
    "def count_entries(df,*args):\n",
    "    cols_count = {}\n",
    "    for col_name in args:\n",
    "        col = df[col_name]\n",
    "        for entry in col:\n",
    "            if entry in cols_count.keys():\n",
    "                cols_count[entry] += 1\n",
    "            else:\n",
    "                cols_count[entry] = 1\n",
    "    return cols_count\n",
    "\n",
    "result1 = count_entries(df, 'lang')\n",
    "result2 = count_entries(df,'lang','source')\n",
    "print(result1)\n",
    "print(result2)"
   ]
  },
  {
   "cell_type": "code",
   "execution_count": null,
   "metadata": {},
   "outputs": [],
   "source": []
  }
 ],
 "metadata": {
  "kernelspec": {
   "display_name": "Python 3",
   "language": "python",
   "name": "python3"
  },
  "language_info": {
   "codemirror_mode": {
    "name": "ipython",
    "version": 3
   },
   "file_extension": ".py",
   "mimetype": "text/x-python",
   "name": "python",
   "nbconvert_exporter": "python",
   "pygments_lexer": "ipython3",
   "version": "3.7.6"
  }
 },
 "nbformat": 4,
 "nbformat_minor": 4
}
